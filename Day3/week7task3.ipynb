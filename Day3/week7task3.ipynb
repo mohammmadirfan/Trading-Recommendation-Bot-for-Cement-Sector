{
  "nbformat": 4,
  "nbformat_minor": 0,
  "metadata": {
    "colab": {
      "provenance": []
    },
    "kernelspec": {
      "name": "python3",
      "display_name": "Python 3"
    },
    "language_info": {
      "name": "python"
    }
  },
  "cells": [
    {
      "cell_type": "code",
      "source": [
        "!pip install fuzzywuzzy"
      ],
      "metadata": {
        "collapsed": true,
        "colab": {
          "base_uri": "https://localhost:8080/"
        },
        "id": "Uyr9yHZNSf9V",
        "outputId": "6805c02f-1867-4f12-f675-cffa197d02ce"
      },
      "execution_count": 28,
      "outputs": [
        {
          "output_type": "stream",
          "name": "stdout",
          "text": [
            "Requirement already satisfied: fuzzywuzzy in /usr/local/lib/python3.10/dist-packages (0.18.0)\n"
          ]
        }
      ]
    },
    {
      "cell_type": "code",
      "source": [
        "import pandas as pd\n",
        "from fuzzywuzzy import fuzz\n",
        "from tqdm import tqdm"
      ],
      "metadata": {
        "id": "MNwSc_dGU2sX"
      },
      "execution_count": 29,
      "outputs": []
    },
    {
      "cell_type": "code",
      "source": [
        "# Load the news articles\n",
        "news_data = pd.read_csv('/content/filtered_news.csv')\n",
        "print(news_data.columns)\n",
        "#news_data = news_data['News']\n",
        "# Load the features\n",
        "features = pd.read_csv('/content/Feature_Pool.csv')['Article'].tolist()\n",
        "news_data[:1]"
      ],
      "metadata": {
        "colab": {
          "base_uri": "https://localhost:8080/",
          "height": 99
        },
        "collapsed": true,
        "id": "VxJoDBQdU4ou",
        "outputId": "b05c5d3d-4aa6-4d5e-f760-fc41ef1c024b"
      },
      "execution_count": 30,
      "outputs": [
        {
          "output_type": "stream",
          "name": "stdout",
          "text": [
            "Index(['Headline', 'DateTime', 'Source', 'News', 'HeadNews_clean'], dtype='object')\n"
          ]
        },
        {
          "output_type": "execute_result",
          "data": {
            "text/plain": [
              "                           Headline    DateTime   Source  \\\n",
              "0  Are GDP growth prospects bright?  2021-02-08  Tribune   \n",
              "\n",
              "                                                News  \\\n",
              "0  Despite many positives, LNG crisis and fiscal ...   \n",
              "\n",
              "                                      HeadNews_clean  \n",
              "0  are GDP growth prospects bright? despite many ...  "
            ],
            "text/html": [
              "\n",
              "  <div id=\"df-6a368979-a290-423d-b4e3-93cae77748a0\" class=\"colab-df-container\">\n",
              "    <div>\n",
              "<style scoped>\n",
              "    .dataframe tbody tr th:only-of-type {\n",
              "        vertical-align: middle;\n",
              "    }\n",
              "\n",
              "    .dataframe tbody tr th {\n",
              "        vertical-align: top;\n",
              "    }\n",
              "\n",
              "    .dataframe thead th {\n",
              "        text-align: right;\n",
              "    }\n",
              "</style>\n",
              "<table border=\"1\" class=\"dataframe\">\n",
              "  <thead>\n",
              "    <tr style=\"text-align: right;\">\n",
              "      <th></th>\n",
              "      <th>Headline</th>\n",
              "      <th>DateTime</th>\n",
              "      <th>Source</th>\n",
              "      <th>News</th>\n",
              "      <th>HeadNews_clean</th>\n",
              "    </tr>\n",
              "  </thead>\n",
              "  <tbody>\n",
              "    <tr>\n",
              "      <th>0</th>\n",
              "      <td>Are GDP growth prospects bright?</td>\n",
              "      <td>2021-02-08</td>\n",
              "      <td>Tribune</td>\n",
              "      <td>Despite many positives, LNG crisis and fiscal ...</td>\n",
              "      <td>are GDP growth prospects bright? despite many ...</td>\n",
              "    </tr>\n",
              "  </tbody>\n",
              "</table>\n",
              "</div>\n",
              "    <div class=\"colab-df-buttons\">\n",
              "\n",
              "  <div class=\"colab-df-container\">\n",
              "    <button class=\"colab-df-convert\" onclick=\"convertToInteractive('df-6a368979-a290-423d-b4e3-93cae77748a0')\"\n",
              "            title=\"Convert this dataframe to an interactive table.\"\n",
              "            style=\"display:none;\">\n",
              "\n",
              "  <svg xmlns=\"http://www.w3.org/2000/svg\" height=\"24px\" viewBox=\"0 -960 960 960\">\n",
              "    <path d=\"M120-120v-720h720v720H120Zm60-500h600v-160H180v160Zm220 220h160v-160H400v160Zm0 220h160v-160H400v160ZM180-400h160v-160H180v160Zm440 0h160v-160H620v160ZM180-180h160v-160H180v160Zm440 0h160v-160H620v160Z\"/>\n",
              "  </svg>\n",
              "    </button>\n",
              "\n",
              "  <style>\n",
              "    .colab-df-container {\n",
              "      display:flex;\n",
              "      gap: 12px;\n",
              "    }\n",
              "\n",
              "    .colab-df-convert {\n",
              "      background-color: #E8F0FE;\n",
              "      border: none;\n",
              "      border-radius: 50%;\n",
              "      cursor: pointer;\n",
              "      display: none;\n",
              "      fill: #1967D2;\n",
              "      height: 32px;\n",
              "      padding: 0 0 0 0;\n",
              "      width: 32px;\n",
              "    }\n",
              "\n",
              "    .colab-df-convert:hover {\n",
              "      background-color: #E2EBFA;\n",
              "      box-shadow: 0px 1px 2px rgba(60, 64, 67, 0.3), 0px 1px 3px 1px rgba(60, 64, 67, 0.15);\n",
              "      fill: #174EA6;\n",
              "    }\n",
              "\n",
              "    .colab-df-buttons div {\n",
              "      margin-bottom: 4px;\n",
              "    }\n",
              "\n",
              "    [theme=dark] .colab-df-convert {\n",
              "      background-color: #3B4455;\n",
              "      fill: #D2E3FC;\n",
              "    }\n",
              "\n",
              "    [theme=dark] .colab-df-convert:hover {\n",
              "      background-color: #434B5C;\n",
              "      box-shadow: 0px 1px 3px 1px rgba(0, 0, 0, 0.15);\n",
              "      filter: drop-shadow(0px 1px 2px rgba(0, 0, 0, 0.3));\n",
              "      fill: #FFFFFF;\n",
              "    }\n",
              "  </style>\n",
              "\n",
              "    <script>\n",
              "      const buttonEl =\n",
              "        document.querySelector('#df-6a368979-a290-423d-b4e3-93cae77748a0 button.colab-df-convert');\n",
              "      buttonEl.style.display =\n",
              "        google.colab.kernel.accessAllowed ? 'block' : 'none';\n",
              "\n",
              "      async function convertToInteractive(key) {\n",
              "        const element = document.querySelector('#df-6a368979-a290-423d-b4e3-93cae77748a0');\n",
              "        const dataTable =\n",
              "          await google.colab.kernel.invokeFunction('convertToInteractive',\n",
              "                                                    [key], {});\n",
              "        if (!dataTable) return;\n",
              "\n",
              "        const docLinkHtml = 'Like what you see? Visit the ' +\n",
              "          '<a target=\"_blank\" href=https://colab.research.google.com/notebooks/data_table.ipynb>data table notebook</a>'\n",
              "          + ' to learn more about interactive tables.';\n",
              "        element.innerHTML = '';\n",
              "        dataTable['output_type'] = 'display_data';\n",
              "        await google.colab.output.renderOutput(dataTable, element);\n",
              "        const docLink = document.createElement('div');\n",
              "        docLink.innerHTML = docLinkHtml;\n",
              "        element.appendChild(docLink);\n",
              "      }\n",
              "    </script>\n",
              "  </div>\n",
              "\n",
              "\n",
              "    </div>\n",
              "  </div>\n"
            ],
            "application/vnd.google.colaboratory.intrinsic+json": {
              "type": "dataframe",
              "summary": "{\n  \"name\": \"news_data[:1]\",\n  \"rows\": 1,\n  \"fields\": [\n    {\n      \"column\": \"Headline\",\n      \"properties\": {\n        \"dtype\": \"string\",\n        \"num_unique_values\": 1,\n        \"samples\": [\n          \"Are GDP growth prospects bright?\"\n        ],\n        \"semantic_type\": \"\",\n        \"description\": \"\"\n      }\n    },\n    {\n      \"column\": \"DateTime\",\n      \"properties\": {\n        \"dtype\": \"object\",\n        \"num_unique_values\": 1,\n        \"samples\": [\n          \"2021-02-08\"\n        ],\n        \"semantic_type\": \"\",\n        \"description\": \"\"\n      }\n    },\n    {\n      \"column\": \"Source\",\n      \"properties\": {\n        \"dtype\": \"string\",\n        \"num_unique_values\": 1,\n        \"samples\": [\n          \"Tribune\"\n        ],\n        \"semantic_type\": \"\",\n        \"description\": \"\"\n      }\n    },\n    {\n      \"column\": \"News\",\n      \"properties\": {\n        \"dtype\": \"string\",\n        \"num_unique_values\": 1,\n        \"samples\": [\n          \"Despite many positives, LNG crisis and fiscal deficit can decelerate economic progress\\nKARACHI:\\n \\n The  Asian Development Bank  (ADB) says Pakistan\\u00c3\\u0192\\u00c2\\u00a2\\u00c3\\u201a\\u00c2\\u20ac\\u00c3\\u201a\\u00c2\\u2122s economy can grow 2% in the current fiscal year ending June 2021 after contracting 0.4% last year. \\n The government has also set almost a similar growth target at 2.1%. But we can safely expect a higher growth rate. \\n The most important driver for a higher-than-expected growth is the pace at which global economy is going to recover in 2021. The International Monetary Fund (IMF) has forecast 5.2% and Morgan Stanley 6.4% global growth. The IMF makes such projections very cautiously and takes into account the behaviour of all variables. \\n However, the IMF has clarified that its forecast rests not only on economic factors but also on public health \\u00c3\\u0192\\u00c2\\u00a2\\u00c3\\u201a\\u00c2\\u20ac\\u00c3\\u201a\\u00c2\\u0153which is inherently difficult to predict\\u00c3\\u0192\\u00c2\\u00a2\\u00c3\\u201a\\u00c2\\u20ac\\u00c3\\u201a\\u00c2\\u009d. So, we can expect that global  economic growth  this year could vary vastly from the numbers being projected right now. \\n That said, a majority of reputed analysts agree on the possibility of a sharp recovery in the global economy. This recovery could help accelerate Pakistan\\u00c3\\u0192\\u00c2\\u00a2\\u00c3\\u201a\\u00c2\\u20ac\\u00c3\\u201a\\u00c2\\u2122s economic growth beyond 2% if domestic politics and governance remain impressive. \\n The second driver of higher-than-projected growth is that among top economies of the world, only China posted positive growth, at 2.3%, in 2020 against global recession of 4.4%. Its 2021 growth is being projected at a stunning 9%. \\n Such a high growth in China, our neighbour and long-term development partner through the China-Pakistan Economic Corridor (CPEC), can potentially help  Pakistan \\u00c3\\u0192\\u00c2\\u00a2\\u00c3\\u201a\\u00c2\\u20ac\\u00c3\\u201a\\u00c2\\u2122s economy grow higher than expected. \\n But here domestic political stability plus a favourable geopolitical environment will be required for harvesting the partnership dividends of a solid Chinese economic growth. The third driver of Pakistan\\u00c3\\u0192\\u00c2\\u00a2\\u00c3\\u201a\\u00c2\\u20ac\\u00c3\\u201a\\u00c2\\u2122s economic growth beyond 2% could be the ongoing drive to revive the construction sector through incentives and policy focus. \\n The government has already extended the tax amnesty scheme for those who invest in the construction sector till December 31 and the State Bank of Pakistan (SBP) is vigorously pushing banks to offer as many housing loans as possible. It has also launched a web portal for sorting out any and all complaints of those applying for mortgage finance under the Naya Pakistan Housing Scheme. \\n The Federal Board of Revenue, on its part, has made tax regime for the housing sector more investment-friendly. \\n In the case of kick-starting the economy via accelerated construction activity, the real dividend would come in the shape of more-than-projected growth if implementation of the \\u00c3\\u0192\\u00c2\\u00a2\\u00c3\\u201a\\u00c2\\u20ac\\u00c3\\u201a\\u00c2\\u0153Housing for All\\u00c3\\u0192\\u00c2\\u00a2\\u00c3\\u201a\\u00c2\\u20ac\\u00c3\\u201a\\u00c2\\u009d scheme keeps going and does not meet any roadblocks \\u00c3\\u0192\\u00c2\\u00a2\\u00c3\\u201a\\u00c2\\u20ac\\u00c3\\u201a\\u00c2\\u201c political, administrative or legal. \\n To make that happen, the  government will have to work honestly  and effectively to achieve the much-needed political stability. \\n South Asia growth \\n There is no denying the fact that the Pakistan Tehreek-e-Insaf (PTI) government inherited a myriad of structural economic problems and that Covid-19 hit the country just when it was busy fixing some of those problems. \\n But as the government is going to enter its third year, people rightly expect it to deliver on promises of economic growth and development, affordable inflation and low unemployment levels. \\n Even if Pakistan\\u00c3\\u0192\\u00c2\\u00a2\\u00c3\\u201a\\u00c2\\u20ac\\u00c3\\u201a\\u00c2\\u2122s economy grows 2.5% this fiscal year, as the SBP believes it can in the best case scenario, it would be far lower than the average growth of 7.1% projected for the entire South Asian region. \\n And, that would also be too little compared to growth rates of India, Bangladesh and Sri Lanka. For 2021, the ADB has projected 8%, 6.8% and 4.1% growth rates respectively for these three nations. \\n It is true that the growth in India and Sri Lanka would come in the backdrop of 9% and 5.5% recession respectively they braved in 2020. But then the case of Bangladesh is different. Bangladesh\\u00c3\\u0192\\u00c2\\u00a2\\u00c3\\u201a\\u00c2\\u20ac\\u00c3\\u201a\\u00c2\\u2122s economy is estimated to have grown 5.2% in 2020. \\n So, how much fast Pakistan\\u00c3\\u0192\\u00c2\\u00a2\\u00c3\\u201a\\u00c2\\u20ac\\u00c3\\u201a\\u00c2\\u2122s economy recovers this year, its pace would pale in comparison to the regional countries and that is where political problems emerge. \\n Political capital \\n Such disturbing forecasts \\u00c3\\u0192\\u00c2\\u00a2\\u00c3\\u201a\\u00c2\\u20ac\\u00c3\\u201a\\u00c2\\u201c once they materialise \\u00c3\\u0192\\u00c2\\u00a2\\u00c3\\u201a\\u00c2\\u20ac\\u00c3\\u201a\\u00c2\\u201c would not only erode PTI\\u00c3\\u0192\\u00c2\\u00a2\\u00c3\\u201a\\u00c2\\u20ac\\u00c3\\u201a\\u00c2\\u2122s political capital, but will also reduce the level of exemplary support it enjoys in the powerful establishment. \\n But as long as the government is able to improve the external sector fundamentals and keep inflation under check, it can manage that possible erosion in its political capital. \\n Joblessness, for the time being, is not growing as fast as in the past because of a remarkable rebound in the industrial sector. That rebound (plus year-on-year increase in large-scale manufacturing output in first five months of current fiscal year) has also brightened the scope of higher-than-targeted economic growth. \\n To make the most of this strong recovery, the government has rightly focused on export enhancement. Merchandise exports are now growing moderately and services\\u00c3\\u0192\\u00c2\\u00a2\\u00c3\\u201a\\u00c2\\u20ac\\u00c3\\u201a\\u00c2\\u2122 exports a bit faster \\u00c3\\u0192\\u00c2\\u00a2\\u00c3\\u201a\\u00c2\\u20ac\\u00c3\\u201a\\u00c2\\u201c and remittances continue to rise at a swift pace. \\n All this put together will eventually help improve the current account balance, reducing the country\\u00c3\\u0192\\u00c2\\u00a2\\u00c3\\u201a\\u00c2\\u20ac\\u00c3\\u201a\\u00c2\\u2122s need for short-term foreign funds. In the first half of current fiscal year, Pakistan has reported $1.1 billion current account surplus against a deficit of $2 billion in the same period of last year. \\n Obstacles \\n Despite a number of positives that show the economy is poised to grow at a higher-than-targeted rate this year, two things can potentially decelerate the economic progress. \\n First is the ongoing LNG crisis which has already resulted in an overall gas crisis across the country and started hitting industrial supplies as well and the second is an increase in fiscal deficit. \\n In the first five months of current fiscal year (Jul-Nov 2020), the fiscal deficit stood at 2.8% of gross domestic product (GDP), up from 2.1% in the same period of last year. Gas crisis, if not overcome, will slow down the pace of industrial recovery and hit exports. \\n And fiscal deficit, if not brought under control, will increase the government\\u00c3\\u0192\\u00c2\\u00a2\\u00c3\\u201a\\u00c2\\u20ac\\u00c3\\u201a\\u00c2\\u2122s need to borrow more from banks \\u00c3\\u0192\\u00c2\\u00a2\\u00c3\\u201a\\u00c2\\u20ac\\u00c3\\u201a\\u00c2\\u201c and that will crowd out the private sector, further compounding the challenges being faced by industries and businesses. \\n The writer is a mechanical engineer and is doing master\\u00c3\\u0192\\u00c2\\u00a2\\u00c3\\u201a\\u00c2\\u20ac\\u00c3\\u201a\\u00c2\\u2122s\"\n        ],\n        \"semantic_type\": \"\",\n        \"description\": \"\"\n      }\n    },\n    {\n      \"column\": \"HeadNews_clean\",\n      \"properties\": {\n        \"dtype\": \"string\",\n        \"num_unique_values\": 1,\n        \"samples\": [\n          \"are GDP growth prospects bright? despite many positives, LNG crisis and fiscal deficit can decelerate economic progress KARACHI the asian development bank (ADB) says pakistans economy can grow 2% in the current fiscal year ending june 2021 after contracting 0.4% last year. the government has also set almost a similar growth target at 2.1%. but we can safely expect a higher growth rate. the most important driver for a higher-than-expected growth is the pace at which global economy is going to recover in 2021. the international monetary fund (IMF) has forecast 5.2% and morgan stanley 6.4% global growth. the IMF makes such projections very cautiously and takes into account the behaviour of all variables. however, the IMF has clarified that its forecast rests not only on economic factors but also on public health which is inherently difficult to predict. so, we can expect that global economic growth this year could vary vastly from the numbers being projected right now. that said, a majority of reputed analysts agree on the possibility of a sharp recovery in the global economy. this recovery could help accelerate pakistans economic growth beyond 2% if domestic politics and governance remain impressive. the second driver of higher-than-projected growth is that among top economies of the world, only china posted positive growth, at 2.3%, in 2020 against global recession of 4.4%. its 2021 growth is being projected at a stunning 9%. such a high growth in china, our neighbour and long-term development partner through the China-Pakistan economic corridor (CPEC), can potentially help pakistan s economy grow higher than expected. but here domestic political stability plus a favourable geopolitical environment will be required for harvesting the partnership dividends of a solid chinese economic growth. the third driver of pakistans economic growth beyond 2% could be the ongoing drive to revive the construction sector through incentives and policy focus. the government has already extended the tax amnesty scheme for those who invest in the construction sector till december 31 and the state bank of pakistan (SBP) is vigorously pushing banks to offer as many housing loans as possible. it has also launched a web portal for sorting out any and all complaints of those applying for mortgage finance under the naya pakistan housing scheme. the federal board of revenue, on its part, has made tax regime for the housing sector more investment-friendly. in the case of kick-starting the economy via accelerated construction activity, the real dividend would come in the shape of more-than-projected growth if implementation of the housing for all scheme keeps going and does not meet any roadblocks political, administrative or legal. to make that happen, the government will have to work honestly and effectively to achieve the much-needed political stability. south asia growth there is no denying the fact that the pakistan Tehreek-e-Insaf (PTI) government inherited a myriad of structural economic problems and that Covid-19 hit the country just when it was busy fixing some of those problems. but as the government is going to enter its third year, people rightly expect it to deliver on promises of economic growth and development, affordable inflation and low unemployment levels. even if pakistans economy grows 2.5% this fiscal year, as the SBP believes it can in the best case scenario, it would be far lower than the average growth of 7.1% projected for the entire south asian region. and, that would also be too little compared to growth rates of india, bangladesh and sri lanka. for 2021, the ADB has projected 8%, 6.8% and 4.1% growth rates respectively for these three nations. it is true that the growth in india and sri lanka would come in the backdrop of 9% and 5.5% recession respectively they braved in 2020. but then the case of bangladesh is different. bangladeshs economy is estimated to have grown 5.2% in 2020. so, how much fast pakistans economy recovers this year, its pace would pale in comparison to the regional countries and that is where political problems emerge. political capital such disturbing forecasts once they materialise would not only erode PTIs political capital, but will also reduce the level of exemplary support it enjoys in the powerful establishment. but as long as the government is able to improve the external sector fundamentals and keep inflation under check, it can manage that possible erosion in its political capital. joblessness, for the time being, is not growing as fast as in the past because of a remarkable rebound in the industrial sector. that rebound (plus year-on-year increase in large-scale manufacturing output in first five months of current fiscal year) has also brightened the scope of higher-than-targeted economic growth. to make the most of this strong recovery, the government has rightly focused on export enhancement. merchandise exports are now growing moderately and services exports a bit faster and remittances continue to rise at a swift pace. all this put together will eventually help improve the current account balance, reducing the countrys need for short-term foreign funds. in the first half of current fiscal year, pakistan has reported $1.1 billion current account surplus against a deficit of $2 billion in the same period of last year. obstacles despite a number of positives that show the economy is poised to grow at a higher-than-targeted rate this year, two things can potentially decelerate the economic progress. first is the ongoing LNG crisis which has already resulted in an overall gas crisis across the country and started hitting industrial supplies as well and the second is an increase in fiscal deficit. in the first five months of current fiscal year (Jul-Nov 2020), the fiscal deficit stood at 2.8% of gross domestic product (GDP), up from 2.1% in the same period of last year. gas crisis, if not overcome, will slow down the pace of industrial recovery and hit exports. and fiscal deficit, if not brought under control, will increase the governments need to borrow more from banks and that will crowd out the private sector, further compounding the challenges being faced by industries and businesses. the writer is a mechanical engineer and is doing masters\"\n        ],\n        \"semantic_type\": \"\",\n        \"description\": \"\"\n      }\n    }\n  ]\n}"
            }
          },
          "metadata": {},
          "execution_count": 30
        }
      ]
    },
    {
      "cell_type": "code",
      "execution_count": 32,
      "metadata": {
        "colab": {
          "base_uri": "https://localhost:8080/"
        },
        "id": "yHtMipDLSNGL",
        "outputId": "ff49ccd9-db1b-45dd-c982-0e50a5c967d9"
      },
      "outputs": [
        {
          "output_type": "stream",
          "name": "stdout",
          "text": [
            "Step 1 & 2: Feature Tagging\n",
            "Step 3 & 4: News Filtering\n",
            "Step 5: Calculating Similarity\n"
          ]
        },
        {
          "output_type": "stream",
          "name": "stderr",
          "text": [
            "100%|██████████| 160/160 [03:52<00:00,  1.46s/it]"
          ]
        },
        {
          "output_type": "stream",
          "name": "stdout",
          "text": [
            "Step 6: Removing Similar Articles\n",
            "News processing pipeline completed. Results saved to 'processed_news.csv'.\n",
            "\n",
            "Total relevant articles: 154\n",
            "Articles with tags: 56\n",
            "Percentage of articles with tags: 36.36%\n",
            "                                                                                                                                                                                                                                                                                                                                                                                                                                                                                                                                                                                                                                                                                                                                                                                                                                                                                                                                                                                                                                                                                                                                                                                                                                                                                                                                                                                                                                                                                                                                                                                                                                                                                                                                                                                                                                                                                                                                                                                                                                                                                                                                                                                                                                                                                                                                                                                                                                                                                                                                                                                                                                                                                                                                                                                                                                                                                                                                                                                                                                                                                                                                                                                                                                                                                                                                                                                                                                                                                                                                                                                                                                                                                                                                                                                                                                                                                                                                                                                                                                                                                                                                                                                                                                                                                                                                                                                                                                                                                                                                                                                                                                                                                                                                                                                                                                                                                                                                                                                                                                                                                                                                                                                                                                                                                                                                                                                                                                                                                                                                                                                                                                                                                                                                                                                                                                                                                                                                                                                                                                                                                                                                                                                                                                                                                                                                                                                                                                                                                                                                                                                                                                                                                                                                                                                                                                                                                           News Tags\n",
            "0   Despite many positives, LNG crisis and fiscal deficit can decelerate economic progress\\nKARACHI:\\n \\n The  Asian Development Bank  (ADB) says PakistanÃƒÂ¢Ã‚Â€Ã‚Â™s economy can grow 2% in the current fiscal year ending June 2021 after contracting 0.4% last year. \\n The government has also set almost a similar growth target at 2.1%. But we can safely expect a higher growth rate. \\n The most important driver for a higher-than-expected growth is the pace at which global economy is going to recover in 2021. The International Monetary Fund (IMF) has forecast 5.2% and Morgan Stanley 6.4% global growth. The IMF makes such projections very cautiously and takes into account the behaviour of all variables. \\n However, the IMF has clarified that its forecast rests not only on economic factors but also on public health ÃƒÂ¢Ã‚Â€Ã‚Âœwhich is inherently difficult to predictÃƒÂ¢Ã‚Â€Ã‚Â. So, we can expect that global  economic growth  this year could vary vastly from the numbers being projected right now. \\n That said, a majority of reputed analysts agree on the possibility of a sharp recovery in the global economy. This recovery could help accelerate PakistanÃƒÂ¢Ã‚Â€Ã‚Â™s economic growth beyond 2% if domestic politics and governance remain impressive. \\n The second driver of higher-than-projected growth is that among top economies of the world, only China posted positive growth, at 2.3%, in 2020 against global recession of 4.4%. Its 2021 growth is being projected at a stunning 9%. \\n Such a high growth in China, our neighbour and long-term development partner through the China-Pakistan Economic Corridor (CPEC), can potentially help  Pakistan ÃƒÂ¢Ã‚Â€Ã‚Â™s economy grow higher than expected. \\n But here domestic political stability plus a favourable geopolitical environment will be required for harvesting the partnership dividends of a solid Chinese economic growth. The third driver of PakistanÃƒÂ¢Ã‚Â€Ã‚Â™s economic growth beyond 2% could be the ongoing drive to revive the construction sector through incentives and policy focus. \\n The government has already extended the tax amnesty scheme for those who invest in the construction sector till December 31 and the State Bank of Pakistan (SBP) is vigorously pushing banks to offer as many housing loans as possible. It has also launched a web portal for sorting out any and all complaints of those applying for mortgage finance under the Naya Pakistan Housing Scheme. \\n The Federal Board of Revenue, on its part, has made tax regime for the housing sector more investment-friendly. \\n In the case of kick-starting the economy via accelerated construction activity, the real dividend would come in the shape of more-than-projected growth if implementation of the ÃƒÂ¢Ã‚Â€Ã‚ÂœHousing for AllÃƒÂ¢Ã‚Â€Ã‚Â scheme keeps going and does not meet any roadblocks ÃƒÂ¢Ã‚Â€Ã‚Â“ political, administrative or legal. \\n To make that happen, the  government will have to work honestly  and effectively to achieve the much-needed political stability. \\n South Asia growth \\n There is no denying the fact that the Pakistan Tehreek-e-Insaf (PTI) government inherited a myriad of structural economic problems and that Covid-19 hit the country just when it was busy fixing some of those problems. \\n But as the government is going to enter its third year, people rightly expect it to deliver on promises of economic growth and development, affordable inflation and low unemployment levels. \\n Even if PakistanÃƒÂ¢Ã‚Â€Ã‚Â™s economy grows 2.5% this fiscal year, as the SBP believes it can in the best case scenario, it would be far lower than the average growth of 7.1% projected for the entire South Asian region. \\n And, that would also be too little compared to growth rates of India, Bangladesh and Sri Lanka. For 2021, the ADB has projected 8%, 6.8% and 4.1% growth rates respectively for these three nations. \\n It is true that the growth in India and Sri Lanka would come in the backdrop of 9% and 5.5% recession respectively they braved in 2020. But then the case of Bangladesh is different. BangladeshÃƒÂ¢Ã‚Â€Ã‚Â™s economy is estimated to have grown 5.2% in 2020. \\n So, how much fast PakistanÃƒÂ¢Ã‚Â€Ã‚Â™s economy recovers this year, its pace would pale in comparison to the regional countries and that is where political problems emerge. \\n Political capital \\n Such disturbing forecasts ÃƒÂ¢Ã‚Â€Ã‚Â“ once they materialise ÃƒÂ¢Ã‚Â€Ã‚Â“ would not only erode PTIÃƒÂ¢Ã‚Â€Ã‚Â™s political capital, but will also reduce the level of exemplary support it enjoys in the powerful establishment. \\n But as long as the government is able to improve the external sector fundamentals and keep inflation under check, it can manage that possible erosion in its political capital. \\n Joblessness, for the time being, is not growing as fast as in the past because of a remarkable rebound in the industrial sector. That rebound (plus year-on-year increase in large-scale manufacturing output in first five months of current fiscal year) has also brightened the scope of higher-than-targeted economic growth. \\n To make the most of this strong recovery, the government has rightly focused on export enhancement. Merchandise exports are now growing moderately and servicesÃƒÂ¢Ã‚Â€Ã‚Â™ exports a bit faster ÃƒÂ¢Ã‚Â€Ã‚Â“ and remittances continue to rise at a swift pace. \\n All this put together will eventually help improve the current account balance, reducing the countryÃƒÂ¢Ã‚Â€Ã‚Â™s need for short-term foreign funds. In the first half of current fiscal year, Pakistan has reported $1.1 billion current account surplus against a deficit of $2 billion in the same period of last year. \\n Obstacles \\n Despite a number of positives that show the economy is poised to grow at a higher-than-targeted rate this year, two things can potentially decelerate the economic progress. \\n First is the ongoing LNG crisis which has already resulted in an overall gas crisis across the country and started hitting industrial supplies as well and the second is an increase in fiscal deficit. \\n In the first five months of current fiscal year (Jul-Nov 2020), the fiscal deficit stood at 2.8% of gross domestic product (GDP), up from 2.1% in the same period of last year. Gas crisis, if not overcome, will slow down the pace of industrial recovery and hit exports. \\n And fiscal deficit, if not brought under control, will increase the governmentÃƒÂ¢Ã‚Â€Ã‚Â™s need to borrow more from banks ÃƒÂ¢Ã‚Â€Ã‚Â“ and that will crowd out the private sector, further compounding the challenges being faced by industries and businesses. \\n The writer is a mechanical engineer and is doing masterÃƒÂ¢Ã‚Â€Ã‚Â™s   []\n",
            "3                                                                                                                                                                                                                                                                                                                                                                                                                                                                                                                                                                                                                                                                                                                                                                                                                                                                                                                                                                                                                                                                                                                                                                                                                                                                                                                                                                                                                                                                                                                                                                                                                                                                                                                                                                                                                                                                                                                                                                                                                                                                                                                                                                                                                                                                                                                                                                                                                                                                                                                                                                                                                                                                                                                                                                                                                                                                                                                                                                                                                                                                                                                                                                                                                                                                                                                                                                                                                                                                                                                                                                                                                                                                                                                                                                                                                                                                                                                                                                                                                                                                                                                                                                                                                                                                                                                                                                                                                                                                                                                                                                                                                                                                                                                                                                           QUETTA: Balochistan Chief Minister Jam Kamal Khan Alyani on Sunday claimed that the province had received ample funds from the federal government in the past, but a major chunk of the money had been spent by previous provincial governments without proper planning and that their wrong decisions had pushed the province into poverty and backwardness.Ã¯Â¿Â½Ã¯Â¿Â½Ã¯Â¿Â½Ã¯Â¿Â½Ã¯Â¿Â½Ã¯Â¿Â½Ã¯Â¿Â½Ã¯Â¿Â½Ã¯Â¿Â½If those huge funds would have been used with proper planning and honesty, the situation in Balochistan would have been different from what it is today,Ã¯Â¿Â½Ã¯Â¿Â½Ã¯Â¿Â½Ã¯Â¿Â½Ã¯Â¿Â½Ã¯Â¿Â½Ã¯Â¿Â½Ã¯Â¿Â½Ã¯Â¿Â½ he said while speaking to reporters at a public gathering in Zhob.Mr Alyani arrived in Zhob on a day-long visit where provincial Minister for LiveÃ¯Â¿Â½Ã¯Â¿Â½Ã¯Â¿Â½Ã¯Â¿Â½Ã¯Â¿Â½Ã¯Â¿Â½stock Haji Mitha Khan Kakar and senior officials received him at the Zhob airport. During his visit to Sherani, senior officials briefed him on the Sherani TownÃ¯Â¿Â½Ã¯Â¿Â½Ã¯Â¿Â½Ã¯Â¿Â½Ã¯Â¿Â½Ã¯Â¿Â½Ã¯Â¿Â½Ã¯Â¿Â½Ã¯Â¿Â½s development project.The chief minister said the previous provincial governments had established the district headqu were spent on various schemes wrongly. He said former prime minister Nawaz Sharif laid the foundation of a highway and declared it the western route of the China-Pakistan Economic Corridor (CPEC), but such a highway did not exist in the CPEC plan documents.The chief minister said the Zhob-Dera Ismail Khan-Mir Ali Khail highway was under construction from Kuchlak which would provide access to people from Zhob-Sherani to Khyber Pakhtunkhwa and Islamabad.He said the provincial government was launching development projects for providing maximum facilities to the people and for creating employment opportunities for them.He laid the foundation of many development schemes, including Yadgar Shuhada and employees housing project and Phase-2 of Mir Ali Khail-Tank highway, and also inaugurated a trauma and burns centre at the district hospital and a road expansion project.Published in Dawn, February 8th, 2021   []\n",
            "4                                                                                                                                                                                                                                                                                                                                                                                                                                                                                                                                                                                                                                                                                                                                                                                                                                                                                                                                                                                                                                                                                                                                                                                                                                                                                                                                                                                                                                                                                                                                                                                                                                                                                                                                                                                                                                                                                                                                                                                                                                                                                                                                                                                                                                                                                                                                                                                                                                                                                                                                                                                                                                                                                                                                                                                                                                                                                        ISLAMABAD: Azad Jammu and Kashmir (AJK) President Sardar Masood Khan Monday said that AJK possessed huge investment potential in almost every sector of economy and invited Pakistani investors to tap all investment opportunities there for earning lucrative results. While addressing the business community here at Islamabad Chamber of Commerce and Industry (ICCI), he said the US$ 5 billion AJK economy has the potential to grow into US$ 20-30 billion economy within 10 years, which showed its attractiveness for investors. He said AJK has the potential to become an engine of growth for Pakistan, adding, three tourism corridors have been identified under CPEC in AJK to improve tourism infrastructure.He said that before COVID-19 pandemic, 1.5 million tourists visited AJK as it has pristine terrain with mesmerizing spots for tourists and the government was focusing on modernizing tourism infrastructure to attract more tourists. Representatives of Mirpur, Jhelum, Sialkot, Gujranwala, Bhawalpur and Karachi Chambers of Commerce & Industry also joined the session through a zoom meeting.Sardar Masood Khan said that 3 hydropower projects under CPEC including 720MW Karot, 1120 MW Kohala, 600 MW Azad Pattan and one SEZ in Mirpur were under construction in AJK. He said AJK has the world's finest precious stones while there was great potential for investment in industry, agriculture, hospitality and other sectors and urged that Pakistani investors to capitalize on them.He announced that he would host a delegation of Pakistani business community led by ICCI President Sardar Yasir Ilyas Khan in AJK to show them business and investment potential in AJK.He also paid tributes to Sardar Group of Companies Chairman and Sardar Muhammad Ilyas Khan who is also fater of ICCI President Sardar Yasir Ilyas Khan for his entrepreneurial achievements as he has made huge investments in Pakistan and AJK providing jobs to several thousand people and was making significant contribution to tax revenue of the country. Speaking at the occasion, ICCI President Sardar Yasir Ilyas Khan said that immense tourism potential in AJK still remained untapped and urged the government to focus on developing modern tourism infrastructure to attract more tourists.He said that promoting tourism in AJK would contribute effectively towards strengthening the economy as it would attract investment, create new jobs, reduce unemployment and generate tax revenue. He said that tourism contributed Ã‚Â£106 billion to the GDP of British economy besides supporting 2.6 million jobs. Similarly, tourism was contributing 11.5 percent to the GDP of Dubai capturing direct international tourism spending of $27.9 billion, which showed that Pakistan and AJK could achieve tremendous benefits by promoting tourism. He urged the federal and AJK governments to consider announcing special incentives including 5 to 10-year tax holidays and abolition of duties on import of machinery and equipment for AJK to attract maximum local and foreign investors. He urged that the AJK government for providing land on lease for 55-90 years to investors to give them confidence in making investment. He said that the government should take measures to attract major local and international brands to AJK, establish trainings institutes to utilize the abundant human resource of the region for economic development and reopen airports in Rawalakot and Muzaffarabad by further upgrading them that would facilitate the local and international tourists in visiting AJK. Mian Akram Farid Chairman Founder Group said that sales tax exemption has been withdrawn in AJK and urged the decision to be revised to facilitate the businessmen in AJK.  The representatives of other Chambers of Commerce & Industry also shared ideas for creating a conducive environment for business and investment in AJK.   []\n",
            "5                                                                                                                                                                                                                                                                                                                                                                                                                                                                                                                                                                                                                                                                                                                                                                                                                                                                                                                                                                                                                                                                                                                                                                                                                                                                                                                                                                                                                                                                                                                                                                                                                                                                                                                                                                                                                                                                                                                                                                                                                                                                                                                                                                                                                                                                                                                                                                                                                                                                                                                                                                                                                                                                                                                                                                                                                                                                                                                                                                                                                                                                                                                                                                                                                                                                                                                                                                                                                                                                                                                                                                                                                                                                                                                                                                                                                                                                                                                                                                                                                                                                                                                                                                                                               ISLAMABAD: Speaker National Assembly Asad Qaiser Monday handed over a comprehensive and integrated structural reforms oriented agricultural growth strategy for the next seven years to Minister for National Food Security and Research and sub-committee of the cabinet on agriculture. The chief components of the strategy included Special initiatives for Balochistan, South Punjab, KP, Tharparkar, Cotton Revival program, Oilseed Development, Low-Cost Refinance Line of Credit and Credit Enhancement for Digital Production Finance,  Digitization of Demand-Driven Extension Content, Integrated Seed System, Agriculture Climate Change Insurance Pool (Farmer Risk Transfer Mechanism) Satellite-based Crop Reporting), Establishment of Agriculture Development Authority for Coordination of Reform Implementation, linkages with Ehsaas, Kamyab Jawan and CPEC and incentives for promoting investment in warehousing, contract farming and farmers produce organizations.  He added that the overarching objective was to achieve agriculture growth rate of 7.5% p.a. by FY 2027-28 led and sustained by producer-owned integrated market-based value chains that incentivize producers to continue investing in modern and climate-smart production technologies, expansion of cultivated land area and value added activities It was added that the overarching goal of the proposed strategy was to boost agricultural exports, accelerate rural-development driven economic growth, reduce rural poverty, enhance financial and gender inclusion in agricultural sector.   It was added that the proposed model envisioned a pro-poor growth strategy focusing on transformation of the business model of the 7.4 million smallholder farmers who cultivate 48% of the total cultivable land. It was stated that the weak business model of the smallholder farmers comprising low bargaining power, low access to finance, low yields, fragmented market segment, lack of access to competitive markets and high production cost hindered the modernization of the agriculture sector. It was maintained that the proposed strategy drawing upon eco-system based, multi-pronged three phased strategy seeks to transform PakistanÃ¢Â€Â™s subsistence agriculture into modern, diversified, competitive and high-value agriculture with a particular focus on productivity and profitability of the smallholdersÃ¢Â€Â™ farmers.  The Speaker added that the plan was to accelerate the modernization of agriculture sector so that the sector can generate resources for the sustained development of the economy with a high degree of self-reliance.   []\n",
            "15                                                                                                                                                                                                                                                                                                                                                                                                                                                                                                                                                                                                                                                                                                                                                                                                                                                                                                                                                                                                                                                                                                                                                                                                                                                                                                                                                                                                                                                                                                                                                                                                                                                                                                                                                                                                                                                                                                                                                                                                                                                                                                                                                                                                                                                                                                                                                                                                                                                                                                                                                                                                                                                                                                                                                                                                                                                                                                                                                                                                                                                                                                                                                                                                                                                                                                                                                                                                                                                                                                                                                                                                                                                                                                                                                                                                                                                                                                                                                                                                                                                                                                                                                                                                                                                                                                                                                                                                                                                                                                                                                                                                                                                                                                                                                                                                                                                                    ISLAMABAD: Newly established Business Center of Security and Exchange Commission of Pakistan (SECP) on Monday recorded 24 percent growth in incorporation of new companies, by registering 837 new companies in January 2021. It is the highest ever incorporation by a single Company Registration Office (CRO), said a press release issued by SECP here on Monday.The SECP Business Center in Islamabad is a well-equipped office to promptly process applications for incorporation of companies. It has improved the overall user experience with a perspective of providing ease of doing business in Pakistan.During the month of January, the SECP registered 2,201 new companies, raising the total number of registered companies to 134,797. Out of new incorporation, 98 percent companies were registered online and around 30 percent applicantÃ¢Â€Â™s completed incorporation process in same day. Around 69 percent companies were registered as private limited companies, while around 28 percent were registered as single member companies. 3 percent were registered as public unlisted companies, not for profit associations, foreign companies and Limited Liability Partnership (LLP).  During the month 66 foreign users completed registration from overseas.Top 5 sectors in the month of January 2021 include the trading sector with 314 incorporation, information technology with 269, construction 227, services and allied 188, and E-commerce with 79, while 1124 companies were registered in other sectors. Foreign investment has been reported in 44 new companies, from, China, Malaysia, Sweden, South Africa, Norway, Netherlands, Turkey, the UK and the US.The highest numbers of companies were registered at Business Center Islamabad, followed by 623 and 319 companies registered in CRO Lahore and Karachi respectively. The CROs in Peshawar, Multan, Faisalabad, Gilgit-Baltistan, Quetta, and Sukkur registered, 156, 122, 56, 53, 22 and 13 companies respectively.   []\n"
          ]
        },
        {
          "output_type": "stream",
          "name": "stderr",
          "text": [
            "\n"
          ]
        }
      ],
      "source": [
        "# Feature Tagging Tool\n",
        "def tag_features(article, features, similarity_threshold=80):\n",
        "    tags = []\n",
        "    for feature in features:\n",
        "        similarity = fuzz.partial_ratio(feature.lower(), article.lower())\n",
        "        if similarity >= similarity_threshold:\n",
        "            tags.append(feature)\n",
        "    return tags\n",
        "\n",
        "# News Filtering Tool\n",
        "def filter_cement_news(article, tags):\n",
        "    cement_keywords = ['cement', 'construction', 'infrastructure', 'building materials']\n",
        "    return any(keyword in article.lower() for keyword in cement_keywords) or len(tags) > 0\n",
        "\n",
        "# Function to calculate similarity between articles using FuzzyWuzzy\n",
        "def calculate_similarity(articles, threshold=80):\n",
        "    similar_pairs = []\n",
        "    for i in tqdm(range(len(articles))):\n",
        "        for j in range(i+1, len(articles)):\n",
        "            similarity = fuzz.ratio(articles.iloc[i], articles.iloc[j])\n",
        "            if similarity > threshold:\n",
        "                similar_pairs.append((i, j, similarity))\n",
        "    return similar_pairs\n",
        "\n",
        "# Function to remove similar articles\n",
        "def remove_similar_articles(df, similar_pairs):\n",
        "    to_remove = set()\n",
        "    for i, j, _ in similar_pairs:\n",
        "        if len(df.iloc[i]['News']) >= len(df.iloc[j]['News']):\n",
        "            to_remove.add(j)\n",
        "        else:\n",
        "            to_remove.add(i)\n",
        "    return df.drop(df.index[list(to_remove)])\n",
        "\n",
        "# Integrated Pipeline\n",
        "def news_processing_pipeline(news_data, features):\n",
        "    print(\"Step 1 & 2: Feature Tagging\")\n",
        "    news_data['Tags'] = news_data['News'].apply(lambda x: tag_features(x, features))\n",
        "\n",
        "    print(\"Step 3 & 4: News Filtering\")\n",
        "    news_data['Relevant'] = news_data.apply(lambda row: filter_cement_news(row['News'], row['Tags']), axis=1)\n",
        "    filtered_news = news_data[news_data['Relevant']]\n",
        "\n",
        "    print(\"Step 5: Calculating Similarity\")\n",
        "    similar_pairs = calculate_similarity(filtered_news['News'])\n",
        "\n",
        "    print(\"Step 6: Removing Similar Articles\")\n",
        "    final_news = remove_similar_articles(filtered_news, similar_pairs)\n",
        "\n",
        "    return final_news[['News', 'Tags']]\n",
        "\n",
        "# Run the pipeline\n",
        "processed_news = news_processing_pipeline(news_data, features)\n",
        "\n",
        "# Save the processed news to a CSV file\n",
        "processed_news.to_csv('processed_news.csv', index=False)\n",
        "\n",
        "print(\"News processing pipeline completed. Results saved to 'processed_news.csv'.\")\n",
        "\n",
        "# Print statistics\n",
        "total_articles = len(processed_news)\n",
        "articles_with_tags = len(processed_news[processed_news['Tags'].apply(len) > 0])\n",
        "print(f\"\\nTotal relevant articles: {total_articles}\")\n",
        "print(f\"Articles with tags: {articles_with_tags}\")\n",
        "print(f\"Percentage of articles with tags: {articles_with_tags/total_articles*100:.2f}%\")\n",
        "\n",
        "# Print a sample of the processed news with tags\n",
        "print(processed_news.head().to_string())"
      ]
    },
    {
      "cell_type": "code",
      "source": [],
      "metadata": {
        "id": "qn7R-qzmrJdA"
      },
      "execution_count": null,
      "outputs": []
    }
  ]
}